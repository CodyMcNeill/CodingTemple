{
 "cells": [
  {
   "cell_type": "markdown",
   "metadata": {},
   "source": [
    "# Time/Space Complexity - Intro to Data Structures (User Defined)\n",
    "\n",
    "### Topics to discuss today:\n",
    "\n",
    "<ul>\n",
    "    <li>Time and Space Complexity - What is it/How do we measure it</li>\n",
    "    <li>Asymptotic Analysis</li>\n",
    "    <li><strong>Data Structures</strong></li>\n",
    "    <li>Some of the popular sorting algorithms</li>\n",
    "</ul>\n",
    "\n",
    "### Data Structures to discuss:\n",
    "- Arrays\n",
    "- Stacks\n",
    "- Queues\n",
    "- Linked Lists\n",
    "    - Singly Linked Lists\n",
    "    - Traversing A Linked List\n",
    "    - Finding a node in a linked list\n",
    "    - Adding to a linked list\n"
   ]
  },
  {
   "cell_type": "markdown",
   "metadata": {},
   "source": [
    "## Time and Space Complexity\n",
    "\n",
    "#### What is it?\n",
    "\n",
    "Time and space complexity is the measure of how much time a given action(function) will take to solve a problem. In the same fashion, we determine how much a given data structure will need in terms of memory allocation. A problem can have multiple solutions and finding the optimal solution for the problem needs to be analyzed in time and space.\n",
    "\n",
    "#### How do we measure Time and Space Complexity?\n",
    "\n",
    "In order to measure time and space complexity we use Asymptotic analysis. The reason for this is because we need a way to measure different algorithms (functions) based on the size of their inputs in a mathmatical way. For example, we could have a function that is computed as f(n) and another that is g(n^2). All things around the function staying constant, the only thing that changes is the size of the input. Below is the chart that shows the different Asymptotic analysis formats. "
   ]
  },
  {
   "cell_type": "markdown",
   "metadata": {},
   "source": [
    "<table style=\"text-align:center;\" class=\"table table-bordered\">\n",
    "<tbody><tr>\n",
    "<td>constant</td>\n",
    "<td>−</td>\n",
    "<td>Ο(1)</td>\n",
    "</tr>\n",
    "<tr>\n",
    "<td>logarithmic</td>\n",
    "<td>−</td>\n",
    "<td>Ο(log n)</td>\n",
    "</tr>\n",
    "<tr>\n",
    "<td>linear</td>\n",
    "<td>−</td>\n",
    "<td>Ο(n)</td>\n",
    "</tr>\n",
    "<tr>\n",
    "<td>Linear Logarithmic</td>\n",
    "<td>−</td>\n",
    "<td>Ο(n log n)</td>\n",
    "</tr>\n",
    "<tr>\n",
    "<td>quadratic</td>\n",
    "<td>−</td>\n",
    "<td>Ο(n<sup>2</sup>)</td>\n",
    "</tr>\n",
    "<tr>\n",
    "<td>cubic</td>\n",
    "<td>−</td>\n",
    "<td>Ο(n<sup>3</sup>)</td>\n",
    "</tr>\n",
    "<tr>\n",
    "<td>polynomial</td>\n",
    "<td>−</td>\n",
    "<td>n<sup>Ο(1)</sup></td>\n",
    "</tr>\n",
    "<tr>\n",
    "<td>exponential</td>\n",
    "<td>−</td>\n",
    "<td>2<sup>Ο(n)</sup></td>\n",
    "</tr>\n",
    "</tbody></table>"
   ]
  },
  {
   "cell_type": "markdown",
   "metadata": {},
   "source": [
    "## Arrays"
   ]
  },
  {
   "cell_type": "markdown",
   "metadata": {},
   "source": [
    "In python we benefit from the dynamic array which means the block of memory will expand as needed for the given input to the array. In traditional arrays (depending on the type of operating system) we will usually store our inputs in 4 or 8 consecutive blocks of memory. Below is a diagram of how that looks under the hood:\n",
    "\n",
    "<img src=\"http://www.mathcs.emory.edu/~cheung/Courses/170/Syllabus/09/FIGS/array02x.gif\" style=\"height:250px; width:350px;\">"
   ]
  },
  {
   "cell_type": "markdown",
   "metadata": {},
   "source": [
    "## Which in python looks like this:"
   ]
  },
  {
   "cell_type": "code",
   "execution_count": 6,
   "metadata": {},
   "outputs": [
    {
     "name": "stdout",
     "output_type": "stream",
     "text": [
      "found\n",
      "found\n",
      "[66, 55, 44, 33, 22, 11, 0]\n",
      "[66, 55, 444, 33, 22, 11, 0]\n"
     ]
    }
   ],
   "source": []
  },
  {
   "cell_type": "markdown",
   "metadata": {},
   "source": [
    "### Let's take a look at some of the time and space analysis of arrays"
   ]
  },
  {
   "cell_type": "code",
   "execution_count": 7,
   "metadata": {},
   "outputs": [
    {
     "name": "stdout",
     "output_type": "stream",
     "text": [
      "found\n",
      "found\n",
      "[66, 55, 44, 33, 22, 11, 0]\n",
      "[66, 55, 444, 33, 22, 11, 0]\n"
     ]
    }
   ],
   "source": [
    "array = [66, 55, 44, 33, 22, 11, 0]\n",
    "\n",
    "# indexing into an array or list\n",
    "# time/space is constant\n",
    "\n",
    "indexing = array[3]\n",
    "\n",
    "# searching thru an array or list\n",
    "# linear in time O(n) and constant space O(1)\n",
    "\n",
    "if 33 in array:\n",
    "    print('found')\n",
    "for i in array:\n",
    "    if i == 33:\n",
    "        print('found')\n",
    "        \n",
    "\n",
    "# copying an array\n",
    "# linear in time O(n) and linear in space O(n)\n",
    "copy = array[:]\n",
    "print(copy)\n",
    "\n",
    "# setting an index in an array or list\n",
    "# constant time and constant space O(n)\n",
    "\n",
    "array[2] = 444\n",
    "print(array)"
   ]
  },
  {
   "cell_type": "markdown",
   "metadata": {},
   "source": [
    "## Stacks and Queues\n",
    "\n",
    "** Stacks ** as the name suggests is a data structure that allows for data to follow the Last In First Out priciple(LIFO). Think of a stack of pancakes for example. To get the first pancake you would  start with the top and go down.\n",
    "\n",
    "##### Searching through a stack will be Linear Time O(n) - Constant Space O(1)\n",
    "##### Selecting the last item will be done in Constant Time O(1) - Constant Space O(1)\n",
    "##### Adding to the stack should take Constant Time O(1) - Constant Space O(1)\n",
    "\n",
    "** Queues ** are similar but in this case follow the First In First Out principle(FIFO). Think of this as a line in a black friday sale. The first person camped out for the big screen tv is the first to get it.\n",
    "\n",
    "##### Searching through a queue will be Linear Time O(n) - Constant Space O(1)\n",
    "##### Selecting the first item will be done in Constant Time O(1) - Constant Space O(1)\n",
    "##### Adding to the queue should take Constant Time O(1) - Constant Space O(1)"
   ]
  },
  {
   "cell_type": "code",
   "execution_count": 12,
   "metadata": {},
   "outputs": [
    {
     "name": "stdout",
     "output_type": "stream",
     "text": [
      "[10, 20, 30]\n",
      "[10, 20]\n",
      "30\n",
      "['Shoha', 'Brandt', 'Aubrey']\n",
      "['Brandt', 'Aubrey']\n",
      "Shoha\n"
     ]
    }
   ],
   "source": [
    "stack = []\n",
    "stack.append(10)\n",
    "stack.append(20)\n",
    "stack.append(30)\n",
    "print(stack)\n",
    "\n",
    "last_item = stack.pop()\n",
    "print(stack)\n",
    "print(last_item)\n",
    "\n",
    "queue = []\n",
    "queue.append('Shoha')\n",
    "queue.append('Brandt')\n",
    "queue.append('Aubrey')\n",
    "print(queue)\n",
    "first_person = queue.pop(0)\n",
    "print(queue)\n",
    "print(first_person)\n",
    "\n",
    "from collections import deque \n",
    "\n",
    "class Stack:\n",
    "    def __init__(self):\n",
    "        self.stack = []\n",
    "    def add(self, item):\n",
    "        stack.append(item)\n",
    "    def remove(self):\n",
    "        return stack.pop()\n",
    "\n"
   ]
  },
  {
   "cell_type": "markdown",
   "metadata": {},
   "source": [
    "## Linked List (Data Structure)\n",
    "\n",
    "A linked list is created by using the node class. We create a Node object and create another class to use this node object. We pass the appropriate values thorugh the node object to point the to the next data elements.\n",
    "\n",
    "There are some advantages and disadvantages with this data structure. **Advantages** Linked Lists can save memory because they can be flexibile with memory management which saves memory. **Disadvantages** Finding or adding to the list requires traversing the entire list."
   ]
  },
  {
   "cell_type": "code",
   "execution_count": 15,
   "metadata": {},
   "outputs": [
    {
     "name": "stdout",
     "output_type": "stream",
     "text": [
      "4\n",
      "7\n",
      "22\n"
     ]
    }
   ],
   "source": [
    "class Node():\n",
    "    def __init__(self, val):\n",
    "        self.value = val\n",
    "        self.next = None\n",
    "    \n",
    "    def traverse(self):\n",
    "        node = self\n",
    "        while node != None: \n",
    "            print(node.value)\n",
    "            node = node.next\n",
    "\n",
    "node1 = Node(4)\n",
    "node2 = Node(7)\n",
    "node3 = Node(22)\n",
    "\n",
    "node1.next = node2\n",
    "node2.next = node3\n",
    "\n",
    "node1.traverse()\n",
    "\n"
   ]
  },
  {
   "cell_type": "code",
   "execution_count": 17,
   "metadata": {},
   "outputs": [],
   "source": [
    "class Node():\n",
    "    def __init__(self, val):\n",
    "        self.value = val\n",
    "        self.next = None\n",
    "\n",
    "class LinkedList():\n",
    "    def __init__(self):\n",
    "        self.head = None\n",
    "        \n",
    "    def prepend(self, val):\n",
    "        new_node = Node(val)\n",
    "        new_node.next = self.head\n",
    "        self.head = new_node\n",
    "        \n",
    "    def append(self, val):\n",
    "        new_node = Node(val)\n",
    "        if not self.head:\n",
    "            self.head = new_node\n",
    "            return\n",
    "        else:\n",
    "            last = self.head\n",
    "            while last.next:\n",
    "                last = last.next\n",
    "            last.next = new_node\n",
    "            \n",
    "    def insertAfter(self, prev_node, new_val):\n",
    "        #check if previous node exists\n",
    "        if prev_node is None:\n",
    "            print('Invalid Position, please try again')\n",
    "        else:\n",
    "            new_node = Node(new_val)\n",
    "            new_node.next = prev_node.next\n",
    "            prev_node.next = new_node\n",
    "    \n",
    "    def traverse(self):\n",
    "        temp = self.head\n",
    "        while temp:\n",
    "            print(temp.value)\n",
    "            temp = temp.next\n",
    "\n"
   ]
  },
  {
   "cell_type": "code",
   "execution_count": 20,
   "metadata": {},
   "outputs": [
    {
     "name": "stdout",
     "output_type": "stream",
     "text": [
      "Mon\n",
      "Tues\n",
      "Wed\n",
      "Thu\n",
      "Fri\n"
     ]
    }
   ],
   "source": [
    "weekdays = LinkedList()\n",
    "\n",
    "weekdays.prepend('Tues')\n",
    "weekdays.prepend('Mon')\n",
    "weekdays.append('Wed')\n",
    "weekdays.append('Fri')\n",
    "weekdays.insertAfter(weekdays.head.next.next, 'Thu')\n",
    "\n",
    "weekdays.traverse()"
   ]
  },
  {
   "cell_type": "markdown",
   "metadata": {},
   "source": [
    "# BINARY SEARCH TREE"
   ]
  },
  {
   "cell_type": "code",
   "execution_count": 28,
   "metadata": {},
   "outputs": [],
   "source": [
    "class BST():\n",
    "    def __init__(self, val):\n",
    "        self.value = val\n",
    "        self.left = None\n",
    "        self.right = None\n",
    "        \n",
    "    def insert(self, val):\n",
    "        if val<self.value:\n",
    "            #left side\n",
    "            if self.left is None:\n",
    "                self.left = BST(val)\n",
    "                self.left.insert(val)\n",
    "        else:\n",
    "            #right side\n",
    "            if self.right is None:\n",
    "                self.right = BST(val)\n",
    "            else:\n",
    "                self.right.insert(val)\n",
    "                \n",
    "    def contains(self, target):\n",
    "        if target < self.value:\n",
    "            #left side\n",
    "            if self.left is None:\n",
    "                return False\n",
    "            else:\n",
    "                return self.left.contains(target)\n",
    "        elif target > self.value:\n",
    "            #right side\n",
    "            if self.right is None:\n",
    "                return False\n",
    "            else:\n",
    "                self.right.contains(target)\n",
    "        else:\n",
    "            return True\n",
    "        \n",
    "    def getMin(self):\n",
    "        if self.left is None:\n",
    "            return self.value\n",
    "        return self.left.getMin()\n",
    "    \n",
    "    def getMax(self):\n",
    "        if self.right is None:\n",
    "            return self.value\n",
    "        return self.right.getMax()\n",
    "    \n",
    "    def remove(self, val, parent=None):\n",
    "        # FIND THE VAL\n",
    "        if val < self.value:\n",
    "            #left side\n",
    "            if self.left is not None:\n",
    "                self.left.remove(val, self)\n",
    "            elif val > self.value:\n",
    "                if self.right is not None:\n",
    "                    self.right.remove(val, self)\n",
    "            else:\n",
    "                # REMOVING THE FOUND VAL\n",
    "                if (self.left is not None) and (self.right is not None):\n",
    "                    self.value = self.right.getMin()\n",
    "                    self.right.remove(self.value)\n",
    "                elif parent is None:\n",
    "                    if self.left is not None:\n",
    "                        self.value = self.left.value\n",
    "                        self.right = selft.left.right\n",
    "                        self.left = selft.left.left\n",
    "                    elif  self.right is not None:\n",
    "                        self.value = self.right.value\n",
    "                        selft.left = self.right.left\n",
    "                        self.right = self.right.right\n",
    "                    else:\n",
    "                        self.value = None\n",
    "                elif parent.left == self:\n",
    "                    parent.left = self.left if self.left is not None else self.right\n",
    "                elif parent.right == self:\n",
    "                    parent.right = self.left if self.left is not None else self.right\n",
    "\n"
   ]
  },
  {
   "cell_type": "code",
   "execution_count": 36,
   "metadata": {},
   "outputs": [
    {
     "name": "stdout",
     "output_type": "stream",
     "text": [
      "10\n",
      "20\n",
      "True\n"
     ]
    }
   ],
   "source": [
    "tree = BST(15)\n",
    "tree.insert(10)\n",
    "tree.insert(5)\n",
    "tree.insert(12)\n",
    "tree.insert(14)\n",
    "tree.insert(13)\n",
    "tree.insert(11)\n",
    "tree.insert(20)\n",
    "\n",
    "print(tree.getMin())\n",
    "print(tree.getMax())\n",
    "print(tree.contains(10))"
   ]
  }
 ],
 "metadata": {
  "kernelspec": {
   "display_name": "Python 3 (ipykernel)",
   "language": "python",
   "name": "python3"
  },
  "language_info": {
   "codemirror_mode": {
    "name": "ipython",
    "version": 3
   },
   "file_extension": ".py",
   "mimetype": "text/x-python",
   "name": "python",
   "nbconvert_exporter": "python",
   "pygments_lexer": "ipython3",
   "version": "3.9.12"
  }
 },
 "nbformat": 4,
 "nbformat_minor": 2
}
